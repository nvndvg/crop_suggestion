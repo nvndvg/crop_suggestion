{
  "nbformat": 4,
  "nbformat_minor": 0,
  "metadata": {
    "colab": {
      "name": "KNN_PE.ipynb",
      "provenance": [],
      "authorship_tag": "ABX9TyNKHv5b/s0BUXRi+DgJfg0O",
      "include_colab_link": true
    },
    "kernelspec": {
      "name": "ir",
      "display_name": "R"
    }
  },
  "cells": [
    {
      "cell_type": "markdown",
      "metadata": {
        "id": "view-in-github",
        "colab_type": "text"
      },
      "source": [
        "<a href=\"https://colab.research.google.com/github/nvndvg/crop_suggestion/blob/master/KNN_PE.ipynb\" target=\"_parent\"><img src=\"https://colab.research.google.com/assets/colab-badge.svg\" alt=\"Open In Colab\"/></a>"
      ]
    },
    {
      "cell_type": "code",
      "metadata": {
        "id": "TNtIfp_9lGS2",
        "colab_type": "code",
        "colab": {
          "base_uri": "https://localhost:8080/",
          "height": 272
        },
        "outputId": "c9377e73-286e-483f-b8e5-ceaf418276fe"
      },
      "source": [
        "install.packages('performanceEstimation')\n",
        "install.packages('rattle')\n",
        "install.packages('Hmisc')\n",
        "install.packages('caret')"
      ],
      "execution_count": 7,
      "outputs": [
        {
          "output_type": "stream",
          "text": [
            "Installing package into ‘/usr/local/lib/R/site-library’\n",
            "(as ‘lib’ is unspecified)\n",
            "\n",
            "also installing the dependencies ‘BBmisc’, ‘parallelMap’\n",
            "\n",
            "\n",
            "Installing package into ‘/usr/local/lib/R/site-library’\n",
            "(as ‘lib’ is unspecified)\n",
            "\n",
            "Installing package into ‘/usr/local/lib/R/site-library’\n",
            "(as ‘lib’ is unspecified)\n",
            "\n",
            "Installing package into ‘/usr/local/lib/R/site-library’\n",
            "(as ‘lib’ is unspecified)\n",
            "\n"
          ],
          "name": "stderr"
        }
      ]
    },
    {
      "cell_type": "code",
      "metadata": {
        "id": "Li6y-cgmlbmV",
        "colab_type": "code",
        "colab": {}
      },
      "source": [
        "# Load required packages from local library into the R session.\n",
        "\n",
        "library(dplyr)                # Data wrangling, glimpse() and tbl_df().\n",
        "library(ggplot2)              # Visualise data.\n",
        "library(rattle)               # normVarNames().\n",
        "library(readr)                # Efficient reading of CSV data.\n",
        "library(scales)               # Format comma().\n",
        "library(tibble)               # Convert row names into a column.\n",
        "library(stringi)              # String concat operator %s+%.\n",
        "library(stringr)              # String operations.\n",
        "library(tidyr)                # Prepare a tidy dataset, gather().\n",
        "library(magrittr)             # Pipes %>%, %T>% and equals(), extract().\n",
        "library(reshape2)             # Restructure and aggregate data using just two functions: melt()\n",
        "library(Hmisc)                # The describe() global summary of a dataset.\n",
        "library(caret)                # DTI, KNN, create partiton.\n",
        "library(performanceEstimation)# Infrastructure."
      ],
      "execution_count": 0,
      "outputs": []
    },
    {
      "cell_type": "code",
      "metadata": {
        "id": "COr8baD5nad_",
        "colab_type": "code",
        "outputId": "1bdc91cb-5948-46c7-c88e-a6d0acded941",
        "colab": {
          "base_uri": "https://localhost:8080/",
          "height": 289
        }
      },
      "source": [
        "cat('Ingest the dataset.\\n\\n')\n",
        "\n",
        "url <- 'https://raw.githubusercontent.com/nvndvg/crop_suggestion/master/crop_bigdata_clustered_clustMixType.csv'\n",
        "\n",
        "ds <- read_csv(url)"
      ],
      "execution_count": 9,
      "outputs": [
        {
          "output_type": "stream",
          "text": [
            "Ingest the dataset.\n",
            "\n"
          ],
          "name": "stdout"
        },
        {
          "output_type": "stream",
          "text": [
            "Parsed with column specification:\n",
            "cols(\n",
            "  crops = \u001b[31mcol_character()\u001b[39m,\n",
            "  nitrogen = \u001b[32mcol_double()\u001b[39m,\n",
            "  phosphorus = \u001b[32mcol_double()\u001b[39m,\n",
            "  potassium = \u001b[32mcol_double()\u001b[39m,\n",
            "  ph = \u001b[32mcol_double()\u001b[39m,\n",
            "  temperature = \u001b[32mcol_double()\u001b[39m,\n",
            "  annual_rainfall = \u001b[32mcol_double()\u001b[39m,\n",
            "  season = \u001b[31mcol_character()\u001b[39m,\n",
            "  soil_type = \u001b[31mcol_character()\u001b[39m,\n",
            "  clusters = \u001b[32mcol_double()\u001b[39m\n",
            ")\n",
            "\n"
          ],
          "name": "stderr"
        }
      ]
    },
    {
      "cell_type": "code",
      "metadata": {
        "id": "4jg5Qw4Zo0fx",
        "colab_type": "code",
        "outputId": "05559d33-64eb-43e4-92e7-ad0bbcfbbf19",
        "colab": {
          "base_uri": "https://localhost:8080/",
          "height": 510
        }
      },
      "source": [
        "cat('A quick view of the contents of the dataset.\\n\\n')\n",
        "\n",
        "glimpse(ds)\n",
        "\n",
        "cat('\\n\\nBasic size information.\\n\\n')\n",
        "\n",
        "dim(ds) %>% comcat()\n",
        "\n",
        "cat('\\n\\n# of rows\\n\\n')\n",
        "\n",
        "nrow(ds) %>% comcat()\n",
        "\n",
        "cat('\\n\\n# of columns\\n\\n')\n",
        "\n",
        "ncol(ds) %>% comcat()"
      ],
      "execution_count": 10,
      "outputs": [
        {
          "output_type": "stream",
          "text": [
            "A quick view of the contents of the dataset.\n",
            "\n",
            "Rows: 44,280\n",
            "Columns: 10\n",
            "$ crops           \u001b[3m\u001b[90m<chr>\u001b[39m\u001b[23m \"rice\", \"rice\", \"rice\", \"rice\", \"rice\", \"rice\", \"rice…\n",
            "$ nitrogen        \u001b[3m\u001b[90m<dbl>\u001b[39m\u001b[23m 70, 80, 90, 70, 80, 90, 70, 80, 90, 70, 80, 90, 70, 8…\n",
            "$ phosphorus      \u001b[3m\u001b[90m<dbl>\u001b[39m\u001b[23m 30, 30, 30, 40, 40, 40, 50, 50, 50, 30, 30, 30, 40, 4…\n",
            "$ potassium       \u001b[3m\u001b[90m<dbl>\u001b[39m\u001b[23m 30, 30, 30, 30, 30, 30, 30, 30, 30, 40, 40, 40, 40, 4…\n",
            "$ ph              \u001b[3m\u001b[90m<dbl>\u001b[39m\u001b[23m 5.5, 5.5, 5.5, 5.5, 5.5, 5.5, 5.5, 5.5, 5.5, 5.5, 5.5…\n",
            "$ temperature     \u001b[3m\u001b[90m<dbl>\u001b[39m\u001b[23m 20, 20, 20, 20, 20, 20, 20, 20, 20, 20, 20, 20, 20, 2…\n",
            "$ annual_rainfall \u001b[3m\u001b[90m<dbl>\u001b[39m\u001b[23m 175, 175, 175, 175, 175, 175, 175, 175, 175, 175, 175…\n",
            "$ season          \u001b[3m\u001b[90m<chr>\u001b[39m\u001b[23m \"kharif\", \"kharif\", \"kharif\", \"kharif\", \"kharif\", \"kh…\n",
            "$ soil_type       \u001b[3m\u001b[90m<chr>\u001b[39m\u001b[23m \"clay\", \"clay\", \"clay\", \"clay\", \"clay\", \"clay\", \"clay…\n",
            "$ clusters        \u001b[3m\u001b[90m<dbl>\u001b[39m\u001b[23m 15, 15, 15, 15, 15, 15, 15, 15, 15, 15, 15, 15, 15, 1…\n",
            "\n",
            "\n",
            "Basic size information.\n",
            "\n",
            "44,280 10 \n",
            "\n",
            "\n",
            "# of rows\n",
            "\n",
            "44,280 \n",
            "\n",
            "\n",
            "# of columns\n",
            "\n",
            "10 \n"
          ],
          "name": "stdout"
        }
      ]
    },
    {
      "cell_type": "code",
      "metadata": {
        "id": "U5iqdKLwo7uR",
        "colab_type": "code",
        "outputId": "1efc6bf8-64eb-4d70-dabf-4df964f1ee9c",
        "colab": {
          "base_uri": "https://localhost:8080/",
          "height": 340
        }
      },
      "source": [
        "cat('\\n\\n# Note the available variables.\\n\\n')\n",
        "\n",
        "ds %>% \n",
        "  names() %T>% \n",
        "  print()->\n",
        "vars\n",
        "\n",
        "cat('\\n\\n# Note which variables are numeric.\\n\\n')\n",
        "\n",
        "vars %>%\n",
        "  magrittr::extract(ds, .) %>% \n",
        "  sapply(is.numeric) %>% \n",
        "  which() %>%\n",
        "  names() %T>% \n",
        "  print()->\n",
        "numc\n",
        "\n",
        "cat('\\n\\n# Convert these variables from character to factor and confirm.\\n\\n')\n",
        "\n",
        "ds[fct_vars[-1]] %<>%\n",
        "  lapply(factor) %>%\n",
        "  data.frame() %>%\n",
        "  tbl_df() %T>%\n",
        "  {sapply(., class) %>% print()}\n",
        "\n"
      ],
      "execution_count": 5,
      "outputs": [
        {
          "output_type": "stream",
          "text": [
            "\n",
            "\n",
            "# Note the available variables.\n",
            "\n",
            "[1] \"crops\"           \"nitrogen\"        \"phosphorus\"      \"potassium\"      \n",
            "[5] \"ph\"              \"temperature\"     \"annual_rainfall\" \"season\"         \n",
            "[9] \"soil_type\"      \n",
            "\n",
            "\n",
            "# Note which variables are numeric.\n",
            "\n",
            "[1] \"nitrogen\"        \"phosphorus\"      \"potassium\"       \"ph\"             \n",
            "[5] \"temperature\"     \"annual_rainfall\"\n",
            "\n",
            "\n",
            "# Convert these variables from character to factor and confirm.\n",
            "\n",
            "   season soil_type \n",
            " \"factor\"  \"factor\" \n"
          ],
          "name": "stdout"
        }
      ]
    },
    {
      "cell_type": "code",
      "metadata": {
        "id": "_7k1ymAspMkU",
        "colab_type": "code",
        "outputId": "167cc020-780c-454c-c04e-895b1ee4e38f",
        "colab": {
          "base_uri": "https://localhost:8080/",
          "height": 204
        }
      },
      "source": [
        "cat('\\n\\n# Convert season variable from factor to binary and confirm.\\n\\n')\n",
        "\n",
        "dmy <- dummyVars(\" ~ season\", data = ds, fullRank = T)\n",
        "trsf <- data.frame(predict(dmy, newdata = ds))\n",
        "print(tail(trsf))"
      ],
      "execution_count": 6,
      "outputs": [
        {
          "output_type": "stream",
          "text": [
            "\n",
            "\n",
            "# Convert season variable from factor to binary and confirm.\n",
            "\n",
            "      season.rabi\n",
            "44275           1\n",
            "44276           1\n",
            "44277           1\n",
            "44278           1\n",
            "44279           1\n",
            "44280           1\n"
          ],
          "name": "stdout"
        }
      ]
    },
    {
      "cell_type": "code",
      "metadata": {
        "id": "rP4CBDvlrm3e",
        "colab_type": "code",
        "outputId": "70d26425-5a64-4080-f90b-99fb227fa8e5",
        "colab": {
          "base_uri": "https://localhost:8080/",
          "height": 680
        }
      },
      "source": [
        "cat('\\n\\n# Convert these variables from character to factor and confirm.\\n\\n')\n",
        "\n",
        "dmy <- dummyVars(\" ~ soil_type\", data = ds)\n",
        "trsf <- data.frame(predict(dmy, newdata = ds))\n",
        "print(tail(trsf))"
      ],
      "execution_count": 0,
      "outputs": [
        {
          "output_type": "stream",
          "text": [
            "\n",
            "\n",
            "# Convert these variables from character to factor and confirm.\n",
            "\n",
            "      soil_type.alluvial soil_type.black soil_type.clay soil_type.clay_loam\n",
            "44275                  0               0              1                   0\n",
            "44276                  0               0              1                   0\n",
            "44277                  0               0              1                   0\n",
            "44278                  0               0              1                   0\n",
            "44279                  0               0              1                   0\n",
            "44280                  0               0              1                   0\n",
            "      soil_type.gravely soil_type.laterite soil_type.lateritic soil_type.loam\n",
            "44275                 0                  0                   0              0\n",
            "44276                 0                  0                   0              0\n",
            "44277                 0                  0                   0              0\n",
            "44278                 0                  0                   0              0\n",
            "44279                 0                  0                   0              0\n",
            "44280                 0                  0                   0              0\n",
            "      soil_type.loamy soil_type.red soil_type.red_laterite soil_type.red_loam\n",
            "44275               0             0                      0                  0\n",
            "44276               0             0                      0                  0\n",
            "44277               0             0                      0                  0\n",
            "44278               0             0                      0                  0\n",
            "44279               0             0                      0                  0\n",
            "44280               0             0                      0                  0\n",
            "      soil_type.red_loamy soil_type.red_yellow soil_type.sandy\n",
            "44275                   0                    0               0\n",
            "44276                   0                    0               0\n",
            "44277                   0                    0               0\n",
            "44278                   0                    0               0\n",
            "44279                   0                    0               0\n",
            "44280                   0                    0               0\n",
            "      soil_type.sandy_clay_loam soil_type.sandy_loam\n",
            "44275                         0                    0\n",
            "44276                         0                    0\n",
            "44277                         0                    0\n",
            "44278                         0                    0\n",
            "44279                         0                    0\n",
            "44280                         0                    0\n"
          ],
          "name": "stdout"
        }
      ]
    },
    {
      "cell_type": "code",
      "metadata": {
        "id": "5GlXvBn5sGJw",
        "colab_type": "code",
        "outputId": "e39175ae-b0ad-474f-bb08-6f3dbf87c784",
        "colab": {
          "base_uri": "https://localhost:8080/",
          "height": 51
        }
      },
      "source": [
        "names(trsf)"
      ],
      "execution_count": 0,
      "outputs": [
        {
          "output_type": "display_data",
          "data": {
            "text/plain": [
              " [1] \"soil_type.alluvial\"        \"soil_type.black\"          \n",
              " [3] \"soil_type.clay\"            \"soil_type.clay_loam\"      \n",
              " [5] \"soil_type.gravely\"         \"soil_type.laterite\"       \n",
              " [7] \"soil_type.lateritic\"       \"soil_type.loam\"           \n",
              " [9] \"soil_type.loamy\"           \"soil_type.red\"            \n",
              "[11] \"soil_type.red_laterite\"    \"soil_type.red_loam\"       \n",
              "[13] \"soil_type.red_loamy\"       \"soil_type.red_yellow\"     \n",
              "[15] \"soil_type.sandy\"           \"soil_type.sandy_clay_loam\"\n",
              "[17] \"soil_type.sandy_loam\"     "
            ],
            "text/latex": "\\begin{enumerate*}\n\\item 'soil\\_type.alluvial'\n\\item 'soil\\_type.black'\n\\item 'soil\\_type.clay'\n\\item 'soil\\_type.clay\\_loam'\n\\item 'soil\\_type.gravely'\n\\item 'soil\\_type.laterite'\n\\item 'soil\\_type.lateritic'\n\\item 'soil\\_type.loam'\n\\item 'soil\\_type.loamy'\n\\item 'soil\\_type.red'\n\\item 'soil\\_type.red\\_laterite'\n\\item 'soil\\_type.red\\_loam'\n\\item 'soil\\_type.red\\_loamy'\n\\item 'soil\\_type.red\\_yellow'\n\\item 'soil\\_type.sandy'\n\\item 'soil\\_type.sandy\\_clay\\_loam'\n\\item 'soil\\_type.sandy\\_loam'\n\\end{enumerate*}\n",
            "text/markdown": "1. 'soil_type.alluvial'\n2. 'soil_type.black'\n3. 'soil_type.clay'\n4. 'soil_type.clay_loam'\n5. 'soil_type.gravely'\n6. 'soil_type.laterite'\n7. 'soil_type.lateritic'\n8. 'soil_type.loam'\n9. 'soil_type.loamy'\n10. 'soil_type.red'\n11. 'soil_type.red_laterite'\n12. 'soil_type.red_loam'\n13. 'soil_type.red_loamy'\n14. 'soil_type.red_yellow'\n15. 'soil_type.sandy'\n16. 'soil_type.sandy_clay_loam'\n17. 'soil_type.sandy_loam'\n\n\n",
            "text/html": [
              "<style>\n",
              ".list-inline {list-style: none; margin:0; padding: 0}\n",
              ".list-inline>li {display: inline-block}\n",
              ".list-inline>li:not(:last-child)::after {content: \"\\00b7\"; padding: 0 .5ex}\n",
              "</style>\n",
              "<ol class=list-inline><li>'soil_type.alluvial'</li><li>'soil_type.black'</li><li>'soil_type.clay'</li><li>'soil_type.clay_loam'</li><li>'soil_type.gravely'</li><li>'soil_type.laterite'</li><li>'soil_type.lateritic'</li><li>'soil_type.loam'</li><li>'soil_type.loamy'</li><li>'soil_type.red'</li><li>'soil_type.red_laterite'</li><li>'soil_type.red_loam'</li><li>'soil_type.red_loamy'</li><li>'soil_type.red_yellow'</li><li>'soil_type.sandy'</li><li>'soil_type.sandy_clay_loam'</li><li>'soil_type.sandy_loam'</li></ol>\n"
            ]
          },
          "metadata": {
            "tags": []
          }
        }
      ]
    },
    {
      "cell_type": "code",
      "metadata": {
        "id": "gI7jWmnCtjp4",
        "colab_type": "code",
        "outputId": "fe95714f-ce8c-43c5-eba0-d0ede0ff8edf",
        "colab": {
          "base_uri": "https://localhost:8080/",
          "height": 51
        }
      },
      "source": [
        "lst <- names(trsf)\n",
        "lst"
      ],
      "execution_count": 0,
      "outputs": [
        {
          "output_type": "display_data",
          "data": {
            "text/plain": [
              " [1] \"soil_type.alluvial\"        \"soil_type.black\"          \n",
              " [3] \"soil_type.clay\"            \"soil_type.clay_loam\"      \n",
              " [5] \"soil_type.gravely\"         \"soil_type.laterite\"       \n",
              " [7] \"soil_type.lateritic\"       \"soil_type.loam\"           \n",
              " [9] \"soil_type.loamy\"           \"soil_type.red\"            \n",
              "[11] \"soil_type.red_laterite\"    \"soil_type.red_loam\"       \n",
              "[13] \"soil_type.red_loamy\"       \"soil_type.red_yellow\"     \n",
              "[15] \"soil_type.sandy\"           \"soil_type.sandy_clay_loam\"\n",
              "[17] \"soil_type.sandy_loam\"     "
            ],
            "text/latex": "\\begin{enumerate*}\n\\item 'soil\\_type.alluvial'\n\\item 'soil\\_type.black'\n\\item 'soil\\_type.clay'\n\\item 'soil\\_type.clay\\_loam'\n\\item 'soil\\_type.gravely'\n\\item 'soil\\_type.laterite'\n\\item 'soil\\_type.lateritic'\n\\item 'soil\\_type.loam'\n\\item 'soil\\_type.loamy'\n\\item 'soil\\_type.red'\n\\item 'soil\\_type.red\\_laterite'\n\\item 'soil\\_type.red\\_loam'\n\\item 'soil\\_type.red\\_loamy'\n\\item 'soil\\_type.red\\_yellow'\n\\item 'soil\\_type.sandy'\n\\item 'soil\\_type.sandy\\_clay\\_loam'\n\\item 'soil\\_type.sandy\\_loam'\n\\end{enumerate*}\n",
            "text/markdown": "1. 'soil_type.alluvial'\n2. 'soil_type.black'\n3. 'soil_type.clay'\n4. 'soil_type.clay_loam'\n5. 'soil_type.gravely'\n6. 'soil_type.laterite'\n7. 'soil_type.lateritic'\n8. 'soil_type.loam'\n9. 'soil_type.loamy'\n10. 'soil_type.red'\n11. 'soil_type.red_laterite'\n12. 'soil_type.red_loam'\n13. 'soil_type.red_loamy'\n14. 'soil_type.red_yellow'\n15. 'soil_type.sandy'\n16. 'soil_type.sandy_clay_loam'\n17. 'soil_type.sandy_loam'\n\n\n",
            "text/html": [
              "<style>\n",
              ".list-inline {list-style: none; margin:0; padding: 0}\n",
              ".list-inline>li {display: inline-block}\n",
              ".list-inline>li:not(:last-child)::after {content: \"\\00b7\"; padding: 0 .5ex}\n",
              "</style>\n",
              "<ol class=list-inline><li>'soil_type.alluvial'</li><li>'soil_type.black'</li><li>'soil_type.clay'</li><li>'soil_type.clay_loam'</li><li>'soil_type.gravely'</li><li>'soil_type.laterite'</li><li>'soil_type.lateritic'</li><li>'soil_type.loam'</li><li>'soil_type.loamy'</li><li>'soil_type.red'</li><li>'soil_type.red_laterite'</li><li>'soil_type.red_loam'</li><li>'soil_type.red_loamy'</li><li>'soil_type.red_yellow'</li><li>'soil_type.sandy'</li><li>'soil_type.sandy_clay_loam'</li><li>'soil_type.sandy_loam'</li></ol>\n"
            ]
          },
          "metadata": {
            "tags": []
          }
        }
      ]
    },
    {
      "cell_type": "code",
      "metadata": {
        "id": "RHTlGe4gt9_a",
        "colab_type": "code",
        "colab": {}
      },
      "source": [
        "ds$lst[] <- trsf"
      ],
      "execution_count": 0,
      "outputs": []
    },
    {
      "cell_type": "code",
      "metadata": {
        "id": "ndS5_WI_uD81",
        "colab_type": "code",
        "outputId": "1df0b50e-6cb6-42f3-e742-9db5e8cc4ca5",
        "colab": {
          "base_uri": "https://localhost:8080/",
          "height": 34
        }
      },
      "source": [
        "names(ds)"
      ],
      "execution_count": 0,
      "outputs": [
        {
          "output_type": "display_data",
          "data": {
            "text/plain": [
              " [1] \"crops\"           \"nitrogen\"        \"phosphorus\"      \"potassium\"      \n",
              " [5] \"ph\"              \"temperature\"     \"annual_rainfall\" \"season\"         \n",
              " [9] \"soil_type\"       \"lst\"            "
            ],
            "text/latex": "\\begin{enumerate*}\n\\item 'crops'\n\\item 'nitrogen'\n\\item 'phosphorus'\n\\item 'potassium'\n\\item 'ph'\n\\item 'temperature'\n\\item 'annual\\_rainfall'\n\\item 'season'\n\\item 'soil\\_type'\n\\item 'lst'\n\\end{enumerate*}\n",
            "text/markdown": "1. 'crops'\n2. 'nitrogen'\n3. 'phosphorus'\n4. 'potassium'\n5. 'ph'\n6. 'temperature'\n7. 'annual_rainfall'\n8. 'season'\n9. 'soil_type'\n10. 'lst'\n\n\n",
            "text/html": [
              "<style>\n",
              ".list-inline {list-style: none; margin:0; padding: 0}\n",
              ".list-inline>li {display: inline-block}\n",
              ".list-inline>li:not(:last-child)::after {content: \"\\00b7\"; padding: 0 .5ex}\n",
              "</style>\n",
              "<ol class=list-inline><li>'crops'</li><li>'nitrogen'</li><li>'phosphorus'</li><li>'potassium'</li><li>'ph'</li><li>'temperature'</li><li>'annual_rainfall'</li><li>'season'</li><li>'soil_type'</li><li>'lst'</li></ol>\n"
            ]
          },
          "metadata": {
            "tags": []
          }
        }
      ]
    }
  ]
}